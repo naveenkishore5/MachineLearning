{
 "cells": [
  {
   "cell_type": "code",
   "execution_count": 1,
   "id": "57a61c6b",
   "metadata": {},
   "outputs": [],
   "source": [
    "import re"
   ]
  },
  {
   "cell_type": "code",
   "execution_count": 2,
   "id": "beee743d",
   "metadata": {},
   "outputs": [],
   "source": [
    "string = '''Elon musk's number is +1-(637)-376-6743 and naveen's numeber is 7708649007. Use what number you want'''"
   ]
  },
  {
   "cell_type": "code",
   "execution_count": 10,
   "id": "43b5738b",
   "metadata": {},
   "outputs": [],
   "source": [
    "pattern = \"\\+\\d-\\(\\d{3}\\)-\\d{3}-\\d{4} | \\d{10}\""
   ]
  },
  {
   "cell_type": "code",
   "execution_count": 11,
   "id": "8ec2911c",
   "metadata": {},
   "outputs": [],
   "source": [
    "matches = re.findall(pattern, string)"
   ]
  },
  {
   "cell_type": "code",
   "execution_count": 12,
   "id": "40e5d9cc",
   "metadata": {},
   "outputs": [
    {
     "data": {
      "text/plain": [
       "['+1-(637)-376-6743 ', ' 7708649007']"
      ]
     },
     "execution_count": 12,
     "metadata": {},
     "output_type": "execute_result"
    }
   ],
   "source": [
    "matches"
   ]
  },
  {
   "cell_type": "code",
   "execution_count": 13,
   "id": "6795317f",
   "metadata": {},
   "outputs": [],
   "source": [
    "data = '''theis is the sample data\n",
    "Note 1 this is sample column\n",
    "sjhgad daskjad ajshgsdkald\n",
    "Note 2 yjos ios seconsd ausdojdmm iuhdan\n",
    "jsahdjhsab aihdjsnd ahkdnan'''"
   ]
  },
  {
   "cell_type": "code",
   "execution_count": 17,
   "id": "e99d40c0",
   "metadata": {},
   "outputs": [],
   "source": [
    "pattern = 'Note \\d [^\\n]*'\n",
    "pattern2 = 'Note \\d ([^\\n]*)'"
   ]
  },
  {
   "cell_type": "code",
   "execution_count": 18,
   "id": "e5c12ca9",
   "metadata": {},
   "outputs": [],
   "source": [
    "matches = re.findall(pattern, data)"
   ]
  },
  {
   "cell_type": "code",
   "execution_count": 19,
   "id": "a4ecde4d",
   "metadata": {},
   "outputs": [
    {
     "data": {
      "text/plain": [
       "['Note 1 this is sample column', 'Note 2 yjos ios seconsd ausdojdmm iuhdan']"
      ]
     },
     "execution_count": 19,
     "metadata": {},
     "output_type": "execute_result"
    }
   ],
   "source": [
    "matches"
   ]
  },
  {
   "cell_type": "code",
   "execution_count": 20,
   "id": "a7bf0635",
   "metadata": {},
   "outputs": [],
   "source": [
    "matches1 = re.findall(pattern2, data)"
   ]
  },
  {
   "cell_type": "code",
   "execution_count": 21,
   "id": "01abffdb",
   "metadata": {},
   "outputs": [
    {
     "data": {
      "text/plain": [
       "['this is sample column', 'yjos ios seconsd ausdojdmm iuhdan']"
      ]
     },
     "execution_count": 21,
     "metadata": {},
     "output_type": "execute_result"
    }
   ],
   "source": [
    "matches1"
   ]
  },
  {
   "cell_type": "code",
   "execution_count": null,
   "id": "6de9c7fa",
   "metadata": {},
   "outputs": [],
   "source": []
  }
 ],
 "metadata": {
  "kernelspec": {
   "display_name": "Python 3 (ipykernel)",
   "language": "python",
   "name": "python3"
  },
  "language_info": {
   "codemirror_mode": {
    "name": "ipython",
    "version": 3
   },
   "file_extension": ".py",
   "mimetype": "text/x-python",
   "name": "python",
   "nbconvert_exporter": "python",
   "pygments_lexer": "ipython3",
   "version": "3.9.12"
  }
 },
 "nbformat": 4,
 "nbformat_minor": 5
}
